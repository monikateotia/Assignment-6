{
 "cells": [
  {
   "cell_type": "markdown",
   "id": "5301ef5d-f2f3-4afa-ad7b-e50d0447c3a6",
   "metadata": {},
   "source": [
    "QUESTION 1-Create a python program to sort the given list of tuples based on integer value using a lambda \n",
    "function [('sachin Tendulkar',34357),('Ricky ponting',27483),('Jack Kallis',25534),('Virat kohli',24936)]"
   ]
  },
  {
   "cell_type": "markdown",
   "id": "c50c2395-839f-4622-b1dc-0e5bbb17ab64",
   "metadata": {},
   "source": [
    "ANS-"
   ]
  },
  {
   "cell_type": "code",
   "execution_count": 2,
   "id": "85656b5e-d385-408b-836b-403cb8c3bb50",
   "metadata": {},
   "outputs": [],
   "source": [
    "l=[('sachin Tendulkar',34357),('Ricky ponting',27483),('Jack Kallis',25534),('Virat kohli',24936)]"
   ]
  },
  {
   "cell_type": "code",
   "execution_count": 3,
   "id": "e3fd571f-50d0-4506-8427-e7c8bea79a4d",
   "metadata": {},
   "outputs": [],
   "source": [
    "find_sort=lambda x : x.sort()"
   ]
  },
  {
   "cell_type": "code",
   "execution_count": 5,
   "id": "57856f74-a867-4121-9f76-6a58100c1547",
   "metadata": {},
   "outputs": [],
   "source": [
    "find_sort(l)"
   ]
  },
  {
   "cell_type": "code",
   "execution_count": 6,
   "id": "132face3-bbde-4f19-be50-32572e5ba2d7",
   "metadata": {},
   "outputs": [
    {
     "data": {
      "text/plain": [
       "[('Jack Kallis', 25534),\n",
       " ('Ricky ponting', 27483),\n",
       " ('Virat kohli', 24936),\n",
       " ('sachin Tendulkar', 34357)]"
      ]
     },
     "execution_count": 6,
     "metadata": {},
     "output_type": "execute_result"
    }
   ],
   "source": [
    "l"
   ]
  },
  {
   "cell_type": "markdown",
   "id": "0eb59d56-62b6-449a-986a-c2f42f5e6581",
   "metadata": {},
   "source": [
    "QUESTION 2-Write a python program to find the squares of all the numbers in the given list of integers using\n",
    "lambda and map functions.\n",
    "[1,2,3,4,5,6,7,8,9,10]"
   ]
  },
  {
   "cell_type": "code",
   "execution_count": 31,
   "id": "317d6c94-6162-48ab-aee3-67d3fa96b832",
   "metadata": {},
   "outputs": [],
   "source": [
    "l1=[1,2,3,4,5,6,7,8,9,10]"
   ]
  },
  {
   "cell_type": "code",
   "execution_count": 33,
   "id": "d59de59e-acd0-489a-98e9-3148cdd03d7b",
   "metadata": {},
   "outputs": [
    {
     "data": {
      "text/plain": [
       "[1, 4, 9, 16, 25, 36, 49, 64, 81, 100]"
      ]
     },
     "execution_count": 33,
     "metadata": {},
     "output_type": "execute_result"
    }
   ],
   "source": [
    "list(map(lambda x:x**2,l1))"
   ]
  },
  {
   "cell_type": "markdown",
   "id": "7c8bf896-5818-41f4-b44a-7ad9e0d034de",
   "metadata": {},
   "source": [
    "QUESTION 3-Write a python program to convert the given list of integers in to a tuple of strings.Use map and \n",
    "lambda functions.\n",
    "Given string :[1,2,3,4,5,6,7,8,9,10]\n",
    "expected output :('1','2','3','4','5','6','7','8','9','10')"
   ]
  },
  {
   "cell_type": "code",
   "execution_count": 11,
   "id": "5b18c7df-d9f5-458c-bc95-3cf6b816eab1",
   "metadata": {},
   "outputs": [],
   "source": [
    "l2=[1,2,3,4,5,6,7,8,9,10]"
   ]
  },
  {
   "cell_type": "code",
   "execution_count": 20,
   "id": "1571b318-e30f-426f-8e3e-f2cfcf469b75",
   "metadata": {},
   "outputs": [
    {
     "data": {
      "text/plain": [
       "('1', '2', '3', '4', '5', '6', '7', '8', '9', '10')"
      ]
     },
     "execution_count": 20,
     "metadata": {},
     "output_type": "execute_result"
    }
   ],
   "source": [
    "tuple(map(lambda x : str(x),l2))"
   ]
  },
  {
   "cell_type": "markdown",
   "id": "689542af-7ebf-4c08-8b14-477000eb445d",
   "metadata": {},
   "source": [
    "QUESTION 4-Write a python program using reduce function to compute the product of a list containing numbers from 1 to 25."
   ]
  },
  {
   "cell_type": "code",
   "execution_count": 29,
   "id": "6c21dccb-3c0f-4139-83bb-4f42b6a570c4",
   "metadata": {},
   "outputs": [],
   "source": [
    "m=range(1,26)\n"
   ]
  },
  {
   "cell_type": "code",
   "execution_count": 30,
   "id": "bd4ccc8e-a4c5-437b-8058-d28f0202d2f1",
   "metadata": {},
   "outputs": [],
   "source": [
    "from functools import reduce"
   ]
  },
  {
   "cell_type": "code",
   "execution_count": 41,
   "id": "d216222f-90a5-45e8-975f-2004af3ae6dd",
   "metadata": {},
   "outputs": [
    {
     "data": {
      "text/plain": [
       "15511210043330985984000000"
      ]
     },
     "execution_count": 41,
     "metadata": {},
     "output_type": "execute_result"
    }
   ],
   "source": [
    "reduce(lambda x,y : x*y,m)"
   ]
  },
  {
   "cell_type": "markdown",
   "id": "85c172f6-fdee-4a9e-9874-64367fe1da98",
   "metadata": {},
   "source": [
    "QUESTION 5-Write a python program to filter the numbers in the given list that are divisible by 2and 3 using \n",
    "the filter function .\n",
    "[2,3,6,9,27,60,90,120,55,46]"
   ]
  },
  {
   "cell_type": "code",
   "execution_count": 32,
   "id": "acdcba97-f474-4588-9501-4448ff6d11c7",
   "metadata": {},
   "outputs": [],
   "source": [
    "n=[2,3,6,9,27,60,90,120,55,46]"
   ]
  },
  {
   "cell_type": "code",
   "execution_count": 33,
   "id": "7c3ba52a-39c4-4ccd-b4d4-7c9360f29c08",
   "metadata": {},
   "outputs": [
    {
     "data": {
      "text/plain": [
       "[6, 60, 90, 120]"
      ]
     },
     "execution_count": 33,
     "metadata": {},
     "output_type": "execute_result"
    }
   ],
   "source": [
    "list(filter(lambda x : x%2==0 and x%3==0 ,n))"
   ]
  },
  {
   "cell_type": "markdown",
   "id": "6fe8a78e-bf85-4cae-a23f-bf8a2b637062",
   "metadata": {},
   "source": [
    "QUESTION 6- Write a python program to find palindromes in the given list of strings.using lambda\n",
    "and filter function.\n",
    "[\"python\",\"phy\",\"aba\",\"radar\",\"level\"]"
   ]
  },
  {
   "cell_type": "code",
   "execution_count": 34,
   "id": "a8e1d7c7-bd18-456f-be6a-b8ae6c82dcd0",
   "metadata": {},
   "outputs": [],
   "source": [
    "p=[\"python\",\"phy\",\"aba\",\"radar\",\"level\"]"
   ]
  },
  {
   "cell_type": "code",
   "execution_count": 39,
   "id": "5187f527-9686-40a4-8ab5-361f7d619d35",
   "metadata": {},
   "outputs": [
    {
     "data": {
      "text/plain": [
       "['aba', 'radar', 'level']"
      ]
     },
     "execution_count": 39,
     "metadata": {},
     "output_type": "execute_result"
    }
   ],
   "source": [
    "list(filter(lambda x : x ==x[::-1],p))"
   ]
  },
  {
   "cell_type": "markdown",
   "id": "3688a713-aab5-40b7-a6ea-4f42cd8c8cd9",
   "metadata": {},
   "source": [
    "                                  ***END***"
   ]
  },
  {
   "cell_type": "code",
   "execution_count": null,
   "id": "9c185951-d0cb-4ea0-a4e5-3ca4418619e0",
   "metadata": {},
   "outputs": [],
   "source": []
  }
 ],
 "metadata": {
  "kernelspec": {
   "display_name": "Python 3 (ipykernel)",
   "language": "python",
   "name": "python3"
  },
  "language_info": {
   "codemirror_mode": {
    "name": "ipython",
    "version": 3
   },
   "file_extension": ".py",
   "mimetype": "text/x-python",
   "name": "python",
   "nbconvert_exporter": "python",
   "pygments_lexer": "ipython3",
   "version": "3.10.8"
  }
 },
 "nbformat": 4,
 "nbformat_minor": 5
}
